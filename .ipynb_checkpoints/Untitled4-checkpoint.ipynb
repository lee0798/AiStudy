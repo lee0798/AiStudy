{
 "cells": [
  {
   "cell_type": "code",
   "execution_count": 1,
   "id": "95f9a7e8",
   "metadata": {},
   "outputs": [],
   "source": [
    "import pandas as pd\n",
    "#브로드 캐스팅\n",
    "s = pd.Series([100,200,300])"
   ]
  },
  {
   "cell_type": "code",
   "execution_count": 2,
   "id": "2edc847b",
   "metadata": {},
   "outputs": [
    {
     "data": {
      "text/plain": [
       "0    110\n",
       "1    210\n",
       "2    310\n",
       "dtype: int64"
      ]
     },
     "execution_count": 2,
     "metadata": {},
     "output_type": "execute_result"
    }
   ],
   "source": [
    "s+10"
   ]
  },
  {
   "cell_type": "code",
   "execution_count": 3,
   "id": "330f3ae4",
   "metadata": {},
   "outputs": [],
   "source": [
    "high = pd.Series([120,130,160])"
   ]
  },
  {
   "cell_type": "code",
   "execution_count": 4,
   "id": "03c7b8db",
   "metadata": {},
   "outputs": [
    {
     "data": {
      "text/plain": [
       "0    100\n",
       "1     90\n",
       "2    150\n",
       "dtype: int64"
      ]
     },
     "execution_count": 4,
     "metadata": {},
     "output_type": "execute_result"
    }
   ],
   "source": [
    "low = pd.Series([20,40,10])\n",
    "diff = high - low\n",
    "diff"
   ]
  },
  {
   "cell_type": "code",
   "execution_count": 6,
   "id": "07976605",
   "metadata": {},
   "outputs": [
    {
     "data": {
      "text/plain": [
       "0    False\n",
       "1    False\n",
       "2     True\n",
       "3     True\n",
       "dtype: bool"
      ]
     },
     "execution_count": 6,
     "metadata": {},
     "output_type": "execute_result"
    }
   ],
   "source": [
    "s = pd.Series([100,300,400,500])\n",
    "cond = s>300\n",
    "cond"
   ]
  },
  {
   "cell_type": "code",
   "execution_count": 7,
   "id": "e86b36eb",
   "metadata": {},
   "outputs": [
    {
     "data": {
      "text/plain": [
       "2    400\n",
       "3    500\n",
       "dtype: int64"
      ]
     },
     "execution_count": 7,
     "metadata": {},
     "output_type": "execute_result"
    }
   ],
   "source": [
    "# 필터링\n",
    "s = pd.Series([100,300,400,500])\n",
    "cond = s>300\n",
    "s[cond]"
   ]
  },
  {
   "cell_type": "code",
   "execution_count": 12,
   "id": "fb1d5996",
   "metadata": {},
   "outputs": [
    {
     "data": {
      "text/plain": [
       "1    300\n",
       "2    400\n",
       "3    500\n",
       "dtype: int64"
      ]
     },
     "execution_count": 12,
     "metadata": {},
     "output_type": "execute_result"
    }
   ],
   "source": [
    "low = pd.Series([10,200,200,400,600])\n",
    "high = pd.Series([100,300,400,500,600])\n",
    "diff = (high - low)>=100\n",
    "high[diff]"
   ]
  },
  {
   "cell_type": "code",
   "execution_count": 15,
   "id": "106d2bbb",
   "metadata": {},
   "outputs": [
    {
     "data": {
      "text/plain": [
       "05/14    False\n",
       "05/15     True\n",
       "05/16    False\n",
       "05/17     True\n",
       "05/18    False\n",
       "dtype: bool"
      ]
     },
     "execution_count": 15,
     "metadata": {},
     "output_type": "execute_result"
    }
   ],
   "source": [
    "a = pd.Series([93000,83200,99100,81000,72300],\n",
    "             ['05/14','05/15','05/16','05/17','05/18'])\n",
    "b = (a[0:]>80000) & (a[0:]<90000)\n",
    "b"
   ]
  },
  {
   "cell_type": "code",
   "execution_count": 16,
   "id": "19c721f4",
   "metadata": {},
   "outputs": [
    {
     "data": {
      "text/plain": [
       "05/15    83200\n",
       "05/17    81000\n",
       "dtype: int64"
      ]
     },
     "execution_count": 16,
     "metadata": {},
     "output_type": "execute_result"
    }
   ],
   "source": [
    "a[b]"
   ]
  },
  {
   "cell_type": "code",
   "execution_count": null,
   "id": "44248d56",
   "metadata": {},
   "outputs": [],
   "source": []
  }
 ],
 "metadata": {
  "kernelspec": {
   "display_name": "Python 3 (ipykernel)",
   "language": "python",
   "name": "python3"
  },
  "language_info": {
   "codemirror_mode": {
    "name": "ipython",
    "version": 3
   },
   "file_extension": ".py",
   "mimetype": "text/x-python",
   "name": "python",
   "nbconvert_exporter": "python",
   "pygments_lexer": "ipython3",
   "version": "3.11.4"
  }
 },
 "nbformat": 4,
 "nbformat_minor": 5
}
