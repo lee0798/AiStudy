{
 "cells": [
  {
   "cell_type": "code",
   "execution_count": 8,
   "id": "3443c4a1",
   "metadata": {},
   "outputs": [],
   "source": [
    "import pandas as pd\n",
    "arr = [0,1,2,4]"
   ]
  },
  {
   "cell_type": "code",
   "execution_count": 9,
   "id": "17e9971b",
   "metadata": {},
   "outputs": [
    {
     "data": {
      "text/plain": [
       "0    0\n",
       "1    1\n",
       "2    2\n",
       "3    4\n",
       "dtype: int64"
      ]
     },
     "execution_count": 9,
     "metadata": {},
     "output_type": "execute_result"
    }
   ],
   "source": [
    "s = pd.Series(arr)\n",
    "s"
   ]
  },
  {
   "cell_type": "code",
   "execution_count": 10,
   "id": "af270ca7",
   "metadata": {},
   "outputs": [],
   "source": [
    "data = [100,200,300]\n",
    "index = [\"월\",\"화\",\"수\"]\n",
    "s = pd.Series(data,index)"
   ]
  },
  {
   "cell_type": "code",
   "execution_count": 11,
   "id": "f3dcb427",
   "metadata": {},
   "outputs": [
    {
     "data": {
      "text/plain": [
       "월    100\n",
       "화    200\n",
       "수    300\n",
       "dtype: int64"
      ]
     },
     "execution_count": 11,
     "metadata": {},
     "output_type": "execute_result"
    }
   ],
   "source": [
    "s"
   ]
  },
  {
   "cell_type": "code",
   "execution_count": 12,
   "id": "b5892678",
   "metadata": {},
   "outputs": [
    {
     "data": {
      "text/plain": [
       "Index(['월', '화', '수'], dtype='object')"
      ]
     },
     "execution_count": 12,
     "metadata": {},
     "output_type": "execute_result"
    }
   ],
   "source": [
    "s.index"
   ]
  },
  {
   "cell_type": "code",
   "execution_count": 13,
   "id": "0c52c358",
   "metadata": {},
   "outputs": [
    {
     "data": {
      "text/plain": [
       "array([100, 200, 300])"
      ]
     },
     "execution_count": 13,
     "metadata": {},
     "output_type": "execute_result"
    }
   ],
   "source": [
    "s.values"
   ]
  },
  {
   "cell_type": "code",
   "execution_count": null,
   "id": "cc98c9b0",
   "metadata": {},
   "outputs": [],
   "source": []
  }
 ],
 "metadata": {
  "kernelspec": {
   "display_name": "Python 3 (ipykernel)",
   "language": "python",
   "name": "python3"
  },
  "language_info": {
   "codemirror_mode": {
    "name": "ipython",
    "version": 3
   },
   "file_extension": ".py",
   "mimetype": "text/x-python",
   "name": "python",
   "nbconvert_exporter": "python",
   "pygments_lexer": "ipython3",
   "version": "3.11.4"
  }
 },
 "nbformat": 4,
 "nbformat_minor": 5
}
